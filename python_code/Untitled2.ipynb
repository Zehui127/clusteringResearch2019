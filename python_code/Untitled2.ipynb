{
 "cells": [
  {
   "cell_type": "code",
   "execution_count": 1,
   "metadata": {},
   "outputs": [
    {
     "name": "stdout",
     "output_type": "stream",
     "text": [
      "Automatically created module for IPython interactive environment\n"
     ]
    }
   ],
   "source": [
    "print(__doc__)\n",
    "\n",
    "# Author: Zehui Li\n",
    "# Time 2018/11/01\n",
    "\n",
    "import numpy as np\n",
    "import pandas as pd\n",
    "import matplotlib.pyplot as plt\n",
    "from matplotlib import cm\n",
    "\n",
    "from sklearn.datasets import make_blobs\n",
    "from sklearn.cluster import KMeans, AgglomerativeClustering\n",
    "from sklearn.metrics.cluster import adjusted_rand_score\n",
    "from tqdm import tqdm\n",
    "import math"
   ]
  },
  {
   "cell_type": "code",
   "execution_count": 2,
   "metadata": {},
   "outputs": [],
   "source": [
    "n_samples = 100\n",
    "centers = [(2, 2), (-3, -8), (-10, -10),(4, -4)]\n",
    "X, y = make_blobs(n_samples=n_samples, n_features=2, cluster_std=3,\n",
    "                  centers=centers, shuffle=True)\n",
    "from scipy.spatial.distance import euclidean, pdist, squareform\n",
    "\n",
    "data = X\n",
    "def similarity_func(u, v):\n",
    "    return euclidean(u,v)\n",
    "\n",
    "DF_var = pd.DataFrame.from_dict(data)\n",
    "dists = pdist(DF_var, similarity_func)\n",
    "dist_matric = squareform(dists)"
   ]
  },
  {
   "cell_type": "code",
   "execution_count": 3,
   "metadata": {},
   "outputs": [],
   "source": [
    "from pyclustering.cluster.kmedoids import kmedoids\n",
    "from pyclustering.cluster import cluster_visualizer;\n",
    "from pyclustering.utils import timedcall;\n",
    "kmedoids_instance = kmedoids(dist_matric, [1,2,3], 0.25,data_type='distance_matrix');\n",
    "(ticks, result) = timedcall(kmedoids_instance.process);\n",
    "clusters = kmedoids_instance.get_clusters();\n",
    "medoids = kmedoids_instance.get_medoids();\n",
    "def convert_pycluster_to_sklearn(pycluster_input):\n",
    "    result = np.zeros(len([j for i in pycluster_input for j in i]))\n",
    "    for i,myInd in np.ndenumerate(pycluster_input):\n",
    "        result[myInd] = i[0]\n",
    "    return result"
   ]
  },
  {
   "cell_type": "code",
   "execution_count": 4,
   "metadata": {},
   "outputs": [
    {
     "ename": "NameError",
     "evalue": "name 'dist_matrix' is not defined",
     "output_type": "error",
     "traceback": [
      "\u001b[1;31m---------------------------------------------------------------------------\u001b[0m",
      "\u001b[1;31mNameError\u001b[0m                                 Traceback (most recent call last)",
      "\u001b[1;32m<ipython-input-4-f1b5dd280e24>\u001b[0m in \u001b[0;36m<module>\u001b[1;34m()\u001b[0m\n\u001b[0;32m      4\u001b[0m     \u001b[0mclusters\u001b[0m \u001b[1;33m=\u001b[0m \u001b[0mkmedoids_instance\u001b[0m\u001b[1;33m.\u001b[0m\u001b[0mget_clusters\u001b[0m\u001b[1;33m(\u001b[0m\u001b[1;33m)\u001b[0m\u001b[1;33m;\u001b[0m\u001b[1;33m\u001b[0m\u001b[0m\n\u001b[0;32m      5\u001b[0m     \u001b[1;32mreturn\u001b[0m \u001b[0mconvert_pycluster_to_sklearn\u001b[0m\u001b[1;33m(\u001b[0m\u001b[0mclusters\u001b[0m\u001b[1;33m)\u001b[0m\u001b[1;33m\u001b[0m\u001b[0m\n\u001b[1;32m----> 6\u001b[1;33m \u001b[0mprint\u001b[0m\u001b[1;33m(\u001b[0m\u001b[0mkmediod_tester\u001b[0m\u001b[1;33m(\u001b[0m\u001b[0mdist_matrix\u001b[0m\u001b[1;33m)\u001b[0m\u001b[1;33m)\u001b[0m\u001b[1;33m\u001b[0m\u001b[0m\n\u001b[0m",
      "\u001b[1;31mNameError\u001b[0m: name 'dist_matrix' is not defined"
     ]
    }
   ],
   "source": []
  },
  {
   "cell_type": "code",
   "execution_count": 5,
   "metadata": {},
   "outputs": [],
   "source": [
    "import random\n",
    "from math import factorial\n",
    "# take the similarity matrix, partition result\n",
    "# and ramdom_seed (which is used to reproduce the experiment)\n",
    "def perturb_distance_matrix(in_matrix,partition,random_seed):\n",
    "    matrix = np.matrix.copy(in_matrix)\n",
    "    #take the index of first,second ... cluster\n",
    "    partition_list = list()\n",
    "    for i in np.unique(partition):\n",
    "        index_i = np.where(partition==i)\n",
    "        if len(index_i[0])!=1:\n",
    "            #In one cluster: Randomly select the x pair of points\n",
    "            temp_upper_bound = factorial(len(index_i[0]))/(factorial(len(index_i[0])-2)*2)\n",
    "            loop_time = random.randint(1,temp_upper_bound+1)\n",
    "            #Randomly reduce the distance between each pair\n",
    "            for j in range(1,loop_time+1):\n",
    "                pair = np.random.choice(index_i[0],2,False)\n",
    "                matrix[pair[0],pair[1]]=  matrix[pair[1],pair[0]]= random.uniform(0, 1)*matrix[pair[1],pair[0]]\n",
    "            #store the partition into the list\n",
    "        partition_list.append(index_i[0])\n",
    "    #Ramdonmly select x' pair of clusters\n",
    "    temp_upper_bound = factorial(len(partition_list))/(factorial(len(partition_list)-2)*2)\n",
    "    loop_time = random.randint(1,temp_upper_bound+1)\n",
    "    #increate the distance between clusters with a random ratio\n",
    "    for i in range(1,loop_time+1):\n",
    "        cluster_pair = random.sample(partition_list,2)\n",
    "        #create a ramdom generated matrix - then do elementwise multiplication\n",
    "        increase_coefficient = np.multiply((np.random.rand(cluster_pair[0].shape[0],cluster_pair[1].shape[0])+1),(np.random.randint(4,size=(cluster_pair[0].shape[0],cluster_pair[1].shape[0]))+1))\n",
    "        temp_multiplier = np.multiply(matrix[np.ix_(cluster_pair[0],cluster_pair[1])],increase_coefficient)\n",
    "        matrix[np.ix_(cluster_pair[0],cluster_pair[1])]= temp_multiplier\n",
    "       # the points are symmetric to each other, so do the corresponding changes\n",
    "        matrix[np.ix_(cluster_pair[1],cluster_pair[0])] = np.matrix.transpose(temp_multiplier)\n",
    "\n",
    "    return matrix\n",
    "def perturb_distance_matrix_random(in_matrix,partition,random_seed):\n",
    "    matrix = np.matrix.copy(in_matrix)\n",
    "    #In one cluster: Randomly select the x pair of points\n",
    "    temp_upper_bound = factorial(len(partition))/(factorial(len(partition)-2)*2)\n",
    "    loop_time = random.randint(1,temp_upper_bound+1)\n",
    "    array = np.arange(len(partition))\n",
    "    #Randomly reduce the distance between each pair\n",
    "    for j in range(1,loop_time+1):\n",
    "        pair = np.random.choice(array,2,False)\n",
    "        matrix[pair[0],pair[1]]=  matrix[pair[1],pair[0]]= random.uniform(0, 1)*random.randint(1,10)*matrix[pair[1],pair[0]]\n",
    "    return matrix"
   ]
  },
  {
   "cell_type": "code",
   "execution_count": null,
   "metadata": {},
   "outputs": [],
   "source": [
    "asdf.d"
   ]
  },
  {
   "cell_type": "code",
   "execution_count": 6,
   "metadata": {},
   "outputs": [],
   "source": [
    "from sklearn.cluster import AgglomerativeClustering\n",
    "def single_linkage_tester(dist_matrix):\n",
    "    model = AgglomerativeClustering(affinity='precomputed', n_clusters=4, linkage='complete').fit(dist_matrix)\n",
    "    return model.labels_"
   ]
  },
  {
   "cell_type": "code",
   "execution_count": 14,
   "metadata": {},
   "outputs": [
    {
     "name": "stderr",
     "output_type": "stream",
     "text": [
      "100%|██████████| 1000/1000 [00:29<00:00, 34.19it/s]\n"
     ]
    }
   ],
   "source": [
    "iterate_time = 1000*1\n",
    "check = []\n",
    "d1 = np.zeros(iterate_time)\n",
    "d2 = np.zeros(iterate_time)\n",
    "Gamma3_d3 = np.zeros(iterate_time)\n",
    "for i in tqdm(range(0,iterate_time)):\n",
    "    dist_matrix=dist_matric\n",
    "    partition = single_linkage_tester(dist_matrix)\n",
    "    dist_matric2 = perturb_distance_matrix(dist_matric,partition,1)\n",
    "    check.append(dist_matric2-dist_matric)\n",
    "    partition2 = single_linkage_tester(dist_matric2)\n",
    "    Gamma3_d3[i]=adjusted_rand_score(partition,partition2)\n"
   ]
  },
  {
   "cell_type": "code",
   "execution_count": 16,
   "metadata": {},
   "outputs": [],
   "source": [
    "check2 = []\n",
    "for i in check:\n",
    "    x = np.matrix(i)\n",
    "    check2.append(x.sum())"
   ]
  },
  {
   "cell_type": "code",
   "execution_count": null,
   "metadata": {},
   "outputs": [],
   "source": []
  },
  {
   "cell_type": "code",
   "execution_count": 8,
   "metadata": {},
   "outputs": [
    {
     "data": {
      "text/plain": [
       "Text(0.5,1,'$\\\\Gamma$ Transformation (n=1000)')"
      ]
     },
     "execution_count": 8,
     "metadata": {},
     "output_type": "execute_result"
    },
    {
     "data": {
      "image/png": "[encoded data removed]",
      "text/plain": [
       "<Figure size 720x432 with 2 Axes>"
      ]
     },
     "metadata": {},
     "output_type": "display_data"
    }
   ],
   "source": [
    "f, axs = plt.subplots(1,2,figsize=(10,6))\n",
    "plt.subplot(1, 2, 1)\n",
    "plt.hist(Gamma3_d3,color=\"orange\")\n",
    "plt.xlabel('Adjusted Rand Index\\n (a)')\n",
    "plt.ylabel('Frequency')\n",
    "plt.title('$\\Gamma$ Transformation (n=1000)')"
   ]
  },
  {
   "cell_type": "code",
   "execution_count": 9,
   "metadata": {},
   "outputs": [
    {
     "name": "stdout",
     "output_type": "stream",
     "text": [
      "0.381\n"
     ]
    }
   ],
   "source": [
    "temp=Gamma3_d3[np.where(Gamma3_d3==1)]\n",
    "percent  = len(temp)/len(Gamma3_d3)\n",
    "print(percent)"
   ]
  },
  {
   "cell_type": "code",
   "execution_count": 10,
   "metadata": {},
   "outputs": [],
   "source": [
    "def kmediod_tester(dist_matrix):\n",
    "    kmedoids_instance = kmedoids(dist_matrix, [1,2,3,4], 0.25,data_type='distance_matrix');\n",
    "    (ticks, result) = timedcall(kmedoids_instance.process);\n",
    "    clusters = kmedoids_instance.get_clusters();\n",
    "    return convert_pycluster_to_sklearn(clusters)"
   ]
  },
  {
   "cell_type": "code",
   "execution_count": 11,
   "metadata": {},
   "outputs": [
    {
     "name": "stderr",
     "output_type": "stream",
     "text": [
      "100%|██████████| 1000/1000 [00:43<00:00, 22.92it/s]\n"
     ]
    }
   ],
   "source": [
    "iterate_time = 1000\n",
    "d1 = np.zeros(iterate_time)\n",
    "d2 = np.zeros(iterate_time)\n",
    "random_d3 = np.zeros(iterate_time)\n",
    "for i in tqdm(range(0,iterate_time)):\n",
    "    dist_matrix=dist_matric\n",
    "    partition = kmediod_tester(dist_matrix)\n",
    "    dist_matric2 = perturb_distance_matrix(dist_matric,partition,1)\n",
    "    partition2 = kmediod_tester(dist_matric2)\n",
    "    random_d3[i]=adjusted_rand_score(partition,partition2)"
   ]
  },
  {
   "cell_type": "code",
   "execution_count": 12,
   "metadata": {},
   "outputs": [
    {
     "data": {
      "text/plain": [
       "Text(0.5,1,'$\\\\Gamma$ Transformation (n=1000)')"
      ]
     },
     "execution_count": 12,
     "metadata": {},
     "output_type": "execute_result"
    },
    {
     "data": {
      "image/png": "[encoded data removed]",
      "text/plain": [
       "<Figure size 720x432 with 2 Axes>"
      ]
     },
     "metadata": {},
     "output_type": "display_data"
    }
   ],
   "source": [
    "f, axs = plt.subplots(1,2,figsize=(10,6))\n",
    "plt.subplot(1, 2, 1)\n",
    "plt.hist(random_d3,color=\"orange\")\n",
    "plt.xlabel('Adjusted Rand Index\\n (a)')\n",
    "plt.ylabel('Frequency')\n",
    "plt.title('$\\Gamma$ Transformation (n=1000)')"
   ]
  },
  {
   "cell_type": "code",
   "execution_count": 13,
   "metadata": {},
   "outputs": [
    {
     "name": "stdout",
     "output_type": "stream",
     "text": [
      "0.228\n"
     ]
    }
   ],
   "source": [
    "temp=random_d3[np.where(random_d3==1)]\n",
    "percent  = len(temp)/len(random_d3)\n",
    "print(percent)"
   ]
  },
  {
   "cell_type": "code",
   "execution_count": null,
   "metadata": {},
   "outputs": [],
   "source": []
  }
 ],
 "metadata": {
  "kernelspec": {
   "display_name": "Python 3",
   "language": "python",
   "name": "python3"
  },
  "language_info": {
   "codemirror_mode": {
    "name": "ipython",
    "version": 3
   },
   "file_extension": ".py",
   "mimetype": "text/x-python",
   "name": "python",
   "nbconvert_exporter": "python",
   "pygments_lexer": "ipython3",
   "version": "3.6.5"
  }
 },
 "nbformat": 4,
 "nbformat_minor": 2
}
