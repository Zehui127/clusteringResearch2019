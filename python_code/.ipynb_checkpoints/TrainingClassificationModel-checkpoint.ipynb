{
 "cells": [
  {
   "cell_type": "code",
   "execution_count": 2,
   "metadata": {},
   "outputs": [
    {
     "name": "stdout",
     "output_type": "stream",
     "text": [
      "Automatically created module for IPython interactive environment\n"
     ]
    }
   ],
   "source": [
    "print(__doc__)\n",
    "\n",
    "# Author: Zehui Li\n",
    "# Time 2018/11/01\n",
    "\n",
    "import numpy as np\n",
    "import pandas as pd\n",
    "import matplotlib.pyplot as plt\n",
    "from matplotlib import cm\n",
    "\n",
    "from sklearn.datasets import make_blobs\n",
    "from sklearn.cluster import KMeans, AgglomerativeClustering\n",
    "from sklearn.metrics.cluster import adjusted_rand_score\n",
    "from tqdm import tqdm\n",
    "import math"
   ]
  },
  {
   "cell_type": "markdown",
   "metadata": {},
   "source": [
    "### Generate Data"
   ]
  },
  {
   "cell_type": "code",
   "execution_count": 14,
   "metadata": {},
   "outputs": [],
   "source": [
    "# Generate 3 blobs with 2 classes where the second blob \n",
    "# Cluster_std is the standard deviation, random_state is used for reproduce the experiment \n",
    "n_samples = 100\n",
    "centers = [(-5, -5), (0, 0), (5, 5),(10,-3)]\n",
    "X, y = make_blobs(n_samples=n_samples, n_features=2, cluster_std=2,\n",
    "                  centers=centers, shuffle=True)"
   ]
  },
  {
   "cell_type": "code",
   "execution_count": 15,
   "metadata": {},
   "outputs": [
    {
     "data": {
      "image/png": "[encoded data removed]",
      "text/plain": [
       "<Figure size 432x288 with 1 Axes>"
      ]
     },
     "metadata": {},
     "output_type": "display_data"
    }
   ],
   "source": [
    "fig = plt.figure()\n",
    "ax = fig.add_subplot(111)\n",
    "scatter = ax.scatter(X[:,0],X[:,1],c=y,s=50)"
   ]
  },
  {
   "cell_type": "markdown",
   "metadata": {},
   "source": [
    "#### Create a sample Matrix from 2-d data"
   ]
  },
  {
   "cell_type": "code",
   "execution_count": 16,
   "metadata": {},
   "outputs": [],
   "source": [
    "from scipy.spatial.distance import euclidean, pdist, squareform\n",
    "\n",
    "data = X\n",
    "def similarity_func(u, v):\n",
    "    return euclidean(u,v)\n",
    "\n",
    "DF_var = pd.DataFrame.from_dict(data)\n",
    "dists = pdist(DF_var, similarity_func)\n",
    "dist_matric = squareform(dists)"
   ]
  },
  {
   "cell_type": "markdown",
   "metadata": {},
   "source": [
    "#### K medoid"
   ]
  },
  {
   "cell_type": "code",
   "execution_count": 25,
   "metadata": {},
   "outputs": [],
   "source": [
    "from pyclustering.cluster.kmedoids import kmedoids\n",
    "from pyclustering.cluster import cluster_visualizer;\n",
    "from pyclustering.utils import timedcall;\n",
    "def convert_pycluster_to_sklearn(pycluster_input):\n",
    "    result = np.zeros(len([j for i in pycluster_input for j in i]))\n",
    "    for i,myInd in np.ndenumerate(pycluster_input):\n",
    "        result[myInd] = i[0]\n",
    "    return result\n",
    "def kmediod_tester(dist_matrix):\n",
    "    kmedoids_instance = kmedoids(dist_matrix, [1,2,3,4], 0.25,data_type='distance_matrix');\n",
    "    (ticks, result) = timedcall(kmedoids_instance.process);\n",
    "    clusters = kmedoids_instance.get_clusters();\n",
    "    return convert_pycluster_to_sklearn(clusters)"
   ]
  },
  {
   "cell_type": "markdown",
   "metadata": {},
   "source": [
    "### Single linkage"
   ]
  },
  {
   "cell_type": "code",
   "execution_count": 20,
   "metadata": {},
   "outputs": [],
   "source": [
    "from sklearn.cluster import AgglomerativeClustering\n",
    "def single_linkage_tester(dist_matrix):\n",
    "    model = AgglomerativeClustering(affinity='precomputed', n_clusters=3, linkage='complete').fit(dist_matrix)\n",
    "    return model.labels_"
   ]
  },
  {
   "cell_type": "markdown",
   "metadata": {},
   "source": [
    "### Perburbation function definition"
   ]
  },
  {
   "cell_type": "code",
   "execution_count": 21,
   "metadata": {},
   "outputs": [],
   "source": [
    "import random\n",
    "from math import factorial\n",
    "# take the similarity matrix, partition result\n",
    "# and ramdom_seed (which is used to reproduce the experiment)\n",
    "def perturb_distance_matrix(in_matrix,partition,random_seed):\n",
    "    matrix = np.matrix.copy(in_matrix)\n",
    "    #take the index of first,second ... cluster\n",
    "    partition_list = list()\n",
    "    for i in np.unique(partition):\n",
    "        index_i = np.where(partition==i)\n",
    "        if len(index_i[0])!=1:\n",
    "            #In one cluster: Randomly select the x pair of points\n",
    "            temp_upper_bound = factorial(len(index_i[0]))/(factorial(len(index_i[0])-2)*2)\n",
    "            loop_time = random.randint(1,temp_upper_bound+1)\n",
    "            #Randomly reduce the distance between each pair\n",
    "            for j in range(1,loop_time+1):\n",
    "                pair = np.random.choice(index_i[0],2,False)\n",
    "                matrix[pair[0],pair[1]]=  matrix[pair[1],pair[0]]= random.uniform(0, 1)*matrix[pair[1],pair[0]]\n",
    "            #store the partition into the list\n",
    "        partition_list.append(index_i[0])\n",
    "    #Ramdonmly select x' pair of clusters\n",
    "    temp_upper_bound = factorial(len(partition_list))/(factorial(len(partition_list)-2)*2)\n",
    "    loop_time = random.randint(1,temp_upper_bound+1)\n",
    "    #increate the distance between clusters with a random ratio\n",
    "    for i in range(1,loop_time+1):\n",
    "        cluster_pair = random.sample(partition_list,2)\n",
    "        #create a ramdom generated matrix - then do elementwise multiplication\n",
    "        increase_coefficient = np.multiply((np.random.rand(cluster_pair[0].shape[0],cluster_pair[1].shape[0])+1),(np.random.randint(4,size=(cluster_pair[0].shape[0],cluster_pair[1].shape[0]))+1))\n",
    "        temp_multiplier = np.multiply(matrix[np.ix_(cluster_pair[0],cluster_pair[1])],increase_coefficient)\n",
    "        matrix[np.ix_(cluster_pair[0],cluster_pair[1])]= temp_multiplier\n",
    "       # the points are symmetric to each other, so do the corresponding changes\n",
    "        matrix[np.ix_(cluster_pair[1],cluster_pair[0])] = np.matrix.transpose(temp_multiplier)\n",
    "\n",
    "    return matrix"
   ]
  },
  {
   "cell_type": "markdown",
   "metadata": {},
   "source": [
    "### Classification(Kmdeoid)\n",
    "#### Gnerate the dataset"
   ]
  },
  {
   "cell_type": "code",
   "execution_count": 30,
   "metadata": {},
   "outputs": [],
   "source": [
    "from sklearn import preprocessing\n",
    "def upperTri(ele):   \n",
    "    #this function produce a matrix with upper triangle equals 1 and other element equals -1\n",
    "    dimention = int(math.sqrt(ele.shape[0]))\n",
    "    result = np.ones((dimention, dimention))*(-1)\n",
    "    result = np.matrix(result).A1\n",
    "    for i in range(1,dimention):\n",
    "        for j in range(i,dimention):\n",
    "            my_index = (i-1)*dimention + j\n",
    "            result[my_index] = 1\n",
    "    return result\n",
    "def select_attributes(input_features):\n",
    "    help_matrix = upperTri(input_features[0])\n",
    "    temp_features = [(help_matrix*ele) for ele in input_features]\n",
    "    return [ele[ele>=0] for ele in temp_features]\n",
    "\n",
    "\n",
    "def generate_data_help(num_iter=3000,label_threshold=0.8):\n",
    "    re_matrix_list = []\n",
    "    rand_score_array = np.zeros(num_iter)\n",
    "    for i in tqdm(range(0,num_iter)):\n",
    "        dist_matrix=dist_matric\n",
    "        partition = kmediod_tester(dist_matrix)\n",
    "        dist_matric2 = perturb_distance_matrix(dist_matric,partition,1)\n",
    "        re_matrix_list.append(dist_matric2)\n",
    "        partition2 = kmediod_tester(dist_matric2)\n",
    "        rand_score_array[i]=adjusted_rand_score(partition,partition2)\n",
    "    labels = (rand_score_array>=label_threshold).astype(int)\n",
    "    features = [np.matrix(ele).A1 for ele in re_matrix_list]\n",
    "    reduced_features = select_attributes(features)\n",
    "    return reduced_features,labels\n",
    "def generate_data(num_iter=3000,label_threshold=0.8):\n",
    "    reduced_features,labels = generate_data_help(num_iter,label_threshold)\n",
    "    standardized_reduced_features = preprocessing.scale(reduced_features)\n",
    "    return standardized_reduced_features,labels"
   ]
  },
  {
   "cell_type": "code",
   "execution_count": null,
   "metadata": {},
   "outputs": [],
   "source": [
    "X_test, y_test = generate_data(label_threshold=1)"
   ]
  },
  {
   "cell_type": "code",
   "execution_count": 60,
   "metadata": {},
   "outputs": [
    {
     "name": "stderr",
     "output_type": "stream",
     "text": [
      "100%|██████████| 10000/10000 [05:48<00:00, 28.66it/s]\n",
      "C:\\Users\\ljh\\Anaconda3\\lib\\site-packages\\sklearn\\ensemble\\forest.py:248: FutureWarning: The default value of n_estimators will change from 10 in version 0.20 to 100 in 0.22.\n",
      "  \"10 in version 0.20 to 100 in 0.22.\", FutureWarning)\n",
      "100%|██████████| 20000/20000 [09:45<00:00, 34.18it/s]\n",
      "C:\\Users\\ljh\\Anaconda3\\lib\\site-packages\\sklearn\\ensemble\\forest.py:248: FutureWarning: The default value of n_estimators will change from 10 in version 0.20 to 100 in 0.22.\n",
      "  \"10 in version 0.20 to 100 in 0.22.\", FutureWarning)\n",
      "100%|██████████| 30000/30000 [14:38<00:00, 34.15it/s]\n",
      "C:\\Users\\ljh\\Anaconda3\\lib\\site-packages\\sklearn\\ensemble\\forest.py:248: FutureWarning: The default value of n_estimators will change from 10 in version 0.20 to 100 in 0.22.\n",
      "  \"10 in version 0.20 to 100 in 0.22.\", FutureWarning)\n",
      "100%|██████████| 40000/40000 [20:42<00:00, 30.08it/s]\n",
      "C:\\Users\\ljh\\Anaconda3\\lib\\site-packages\\sklearn\\ensemble\\forest.py:248: FutureWarning: The default value of n_estimators will change from 10 in version 0.20 to 100 in 0.22.\n",
      "  \"10 in version 0.20 to 100 in 0.22.\", FutureWarning)\n",
      "100%|██████████| 50000/50000 [25:54<00:00, 32.17it/s]\n",
      "C:\\Users\\ljh\\Anaconda3\\lib\\site-packages\\sklearn\\ensemble\\forest.py:248: FutureWarning: The default value of n_estimators will change from 10 in version 0.20 to 100 in 0.22.\n",
      "  \"10 in version 0.20 to 100 in 0.22.\", FutureWarning)\n",
      " 44%|████▍     | 26552/60000 [15:18<19:26, 28.66it/s]  "
     ]
    },
    {
     "ename": "KeyboardInterrupt",
     "evalue": "",
     "output_type": "error",
     "traceback": [
      "\u001b[1;31m---------------------------------------------------------------------------\u001b[0m",
      "\u001b[1;31mKeyboardInterrupt\u001b[0m                         Traceback (most recent call last)",
      "\u001b[1;32m<ipython-input-60-41d79639a0b9>\u001b[0m in \u001b[0;36m<module>\u001b[1;34m()\u001b[0m\n\u001b[0;32m      8\u001b[0m \u001b[0mlistRandomForestAccu\u001b[0m \u001b[1;33m=\u001b[0m \u001b[1;33m[\u001b[0m\u001b[1;33m]\u001b[0m\u001b[1;33m\u001b[0m\u001b[0m\n\u001b[0;32m      9\u001b[0m \u001b[1;32mfor\u001b[0m \u001b[0mi\u001b[0m \u001b[1;32min\u001b[0m \u001b[0mrange\u001b[0m\u001b[1;33m(\u001b[0m\u001b[1;36m1\u001b[0m\u001b[1;33m,\u001b[0m\u001b[1;36m20\u001b[0m\u001b[1;33m)\u001b[0m\u001b[1;33m:\u001b[0m\u001b[1;33m\u001b[0m\u001b[0m\n\u001b[1;32m---> 10\u001b[1;33m     \u001b[0mfeatures\u001b[0m\u001b[1;33m,\u001b[0m\u001b[0mlabels\u001b[0m \u001b[1;33m=\u001b[0m \u001b[0mgenerate_data\u001b[0m\u001b[1;33m(\u001b[0m\u001b[1;36m10000\u001b[0m\u001b[1;33m*\u001b[0m\u001b[0mi\u001b[0m\u001b[1;33m,\u001b[0m\u001b[1;36m1\u001b[0m\u001b[1;33m)\u001b[0m\u001b[1;33m\u001b[0m\u001b[0m\n\u001b[0m\u001b[0;32m     11\u001b[0m     \u001b[1;31m#SVM\u001b[0m\u001b[1;33m\u001b[0m\u001b[1;33m\u001b[0m\u001b[0m\n\u001b[0;32m     12\u001b[0m     \u001b[1;31m#Training\u001b[0m\u001b[1;33m\u001b[0m\u001b[1;33m\u001b[0m\u001b[0m\n",
      "\u001b[1;32m<ipython-input-30-f76b60ec70af>\u001b[0m in \u001b[0;36mgenerate_data\u001b[1;34m(num_iter, label_threshold)\u001b[0m\n\u001b[0;32m     31\u001b[0m     \u001b[1;32mreturn\u001b[0m \u001b[0mreduced_features\u001b[0m\u001b[1;33m,\u001b[0m\u001b[0mlabels\u001b[0m\u001b[1;33m\u001b[0m\u001b[0m\n\u001b[0;32m     32\u001b[0m \u001b[1;32mdef\u001b[0m \u001b[0mgenerate_data\u001b[0m\u001b[1;33m(\u001b[0m\u001b[0mnum_iter\u001b[0m\u001b[1;33m=\u001b[0m\u001b[1;36m3000\u001b[0m\u001b[1;33m,\u001b[0m\u001b[0mlabel_threshold\u001b[0m\u001b[1;33m=\u001b[0m\u001b[1;36m0.8\u001b[0m\u001b[1;33m)\u001b[0m\u001b[1;33m:\u001b[0m\u001b[1;33m\u001b[0m\u001b[0m\n\u001b[1;32m---> 33\u001b[1;33m     \u001b[0mreduced_features\u001b[0m\u001b[1;33m,\u001b[0m\u001b[0mlabels\u001b[0m \u001b[1;33m=\u001b[0m \u001b[0mgenerate_data_help\u001b[0m\u001b[1;33m(\u001b[0m\u001b[0mnum_iter\u001b[0m\u001b[1;33m,\u001b[0m\u001b[0mlabel_threshold\u001b[0m\u001b[1;33m)\u001b[0m\u001b[1;33m\u001b[0m\u001b[0m\n\u001b[0m\u001b[0;32m     34\u001b[0m     \u001b[0mstandardized_reduced_features\u001b[0m \u001b[1;33m=\u001b[0m \u001b[0mpreprocessing\u001b[0m\u001b[1;33m.\u001b[0m\u001b[0mscale\u001b[0m\u001b[1;33m(\u001b[0m\u001b[0mreduced_features\u001b[0m\u001b[1;33m)\u001b[0m\u001b[1;33m\u001b[0m\u001b[0m\n\u001b[0;32m     35\u001b[0m     \u001b[1;32mreturn\u001b[0m \u001b[0mstandardized_reduced_features\u001b[0m\u001b[1;33m,\u001b[0m\u001b[0mlabels\u001b[0m\u001b[1;33m\u001b[0m\u001b[0m\n",
      "\u001b[1;32m<ipython-input-30-f76b60ec70af>\u001b[0m in \u001b[0;36mgenerate_data_help\u001b[1;34m(num_iter, label_threshold)\u001b[0m\n\u001b[0;32m     24\u001b[0m         \u001b[0mdist_matric2\u001b[0m \u001b[1;33m=\u001b[0m \u001b[0mperturb_distance_matrix\u001b[0m\u001b[1;33m(\u001b[0m\u001b[0mdist_matric\u001b[0m\u001b[1;33m,\u001b[0m\u001b[0mpartition\u001b[0m\u001b[1;33m,\u001b[0m\u001b[1;36m1\u001b[0m\u001b[1;33m)\u001b[0m\u001b[1;33m\u001b[0m\u001b[0m\n\u001b[0;32m     25\u001b[0m         \u001b[0mre_matrix_list\u001b[0m\u001b[1;33m.\u001b[0m\u001b[0mappend\u001b[0m\u001b[1;33m(\u001b[0m\u001b[0mdist_matric2\u001b[0m\u001b[1;33m)\u001b[0m\u001b[1;33m\u001b[0m\u001b[0m\n\u001b[1;32m---> 26\u001b[1;33m         \u001b[0mpartition2\u001b[0m \u001b[1;33m=\u001b[0m \u001b[0mkmediod_tester\u001b[0m\u001b[1;33m(\u001b[0m\u001b[0mdist_matric2\u001b[0m\u001b[1;33m)\u001b[0m\u001b[1;33m\u001b[0m\u001b[0m\n\u001b[0m\u001b[0;32m     27\u001b[0m         \u001b[0mrand_score_array\u001b[0m\u001b[1;33m[\u001b[0m\u001b[0mi\u001b[0m\u001b[1;33m]\u001b[0m\u001b[1;33m=\u001b[0m\u001b[0madjusted_rand_score\u001b[0m\u001b[1;33m(\u001b[0m\u001b[0mpartition\u001b[0m\u001b[1;33m,\u001b[0m\u001b[0mpartition2\u001b[0m\u001b[1;33m)\u001b[0m\u001b[1;33m\u001b[0m\u001b[0m\n\u001b[0;32m     28\u001b[0m     \u001b[0mlabels\u001b[0m \u001b[1;33m=\u001b[0m \u001b[1;33m(\u001b[0m\u001b[0mrand_score_array\u001b[0m\u001b[1;33m>=\u001b[0m\u001b[0mlabel_threshold\u001b[0m\u001b[1;33m)\u001b[0m\u001b[1;33m.\u001b[0m\u001b[0mastype\u001b[0m\u001b[1;33m(\u001b[0m\u001b[0mint\u001b[0m\u001b[1;33m)\u001b[0m\u001b[1;33m\u001b[0m\u001b[0m\n",
      "\u001b[1;32m<ipython-input-25-aec9ace5c442>\u001b[0m in \u001b[0;36mkmediod_tester\u001b[1;34m(dist_matrix)\u001b[0m\n\u001b[0;32m     11\u001b[0m     \u001b[1;33m(\u001b[0m\u001b[0mticks\u001b[0m\u001b[1;33m,\u001b[0m \u001b[0mresult\u001b[0m\u001b[1;33m)\u001b[0m \u001b[1;33m=\u001b[0m \u001b[0mtimedcall\u001b[0m\u001b[1;33m(\u001b[0m\u001b[0mkmedoids_instance\u001b[0m\u001b[1;33m.\u001b[0m\u001b[0mprocess\u001b[0m\u001b[1;33m)\u001b[0m\u001b[1;33m;\u001b[0m\u001b[1;33m\u001b[0m\u001b[0m\n\u001b[0;32m     12\u001b[0m     \u001b[0mclusters\u001b[0m \u001b[1;33m=\u001b[0m \u001b[0mkmedoids_instance\u001b[0m\u001b[1;33m.\u001b[0m\u001b[0mget_clusters\u001b[0m\u001b[1;33m(\u001b[0m\u001b[1;33m)\u001b[0m\u001b[1;33m;\u001b[0m\u001b[1;33m\u001b[0m\u001b[0m\n\u001b[1;32m---> 13\u001b[1;33m     \u001b[1;32mreturn\u001b[0m \u001b[0mconvert_pycluster_to_sklearn\u001b[0m\u001b[1;33m(\u001b[0m\u001b[0mclusters\u001b[0m\u001b[1;33m)\u001b[0m\u001b[1;33m\u001b[0m\u001b[0m\n\u001b[0m",
      "\u001b[1;32m<ipython-input-25-aec9ace5c442>\u001b[0m in \u001b[0;36mconvert_pycluster_to_sklearn\u001b[1;34m(pycluster_input)\u001b[0m\n\u001b[0;32m      5\u001b[0m     \u001b[0mresult\u001b[0m \u001b[1;33m=\u001b[0m \u001b[0mnp\u001b[0m\u001b[1;33m.\u001b[0m\u001b[0mzeros\u001b[0m\u001b[1;33m(\u001b[0m\u001b[0mlen\u001b[0m\u001b[1;33m(\u001b[0m\u001b[1;33m[\u001b[0m\u001b[0mj\u001b[0m \u001b[1;32mfor\u001b[0m \u001b[0mi\u001b[0m \u001b[1;32min\u001b[0m \u001b[0mpycluster_input\u001b[0m \u001b[1;32mfor\u001b[0m \u001b[0mj\u001b[0m \u001b[1;32min\u001b[0m \u001b[0mi\u001b[0m\u001b[1;33m]\u001b[0m\u001b[1;33m)\u001b[0m\u001b[1;33m)\u001b[0m\u001b[1;33m\u001b[0m\u001b[0m\n\u001b[0;32m      6\u001b[0m     \u001b[1;32mfor\u001b[0m \u001b[0mi\u001b[0m\u001b[1;33m,\u001b[0m\u001b[0mmyInd\u001b[0m \u001b[1;32min\u001b[0m \u001b[0mnp\u001b[0m\u001b[1;33m.\u001b[0m\u001b[0mndenumerate\u001b[0m\u001b[1;33m(\u001b[0m\u001b[0mpycluster_input\u001b[0m\u001b[1;33m)\u001b[0m\u001b[1;33m:\u001b[0m\u001b[1;33m\u001b[0m\u001b[0m\n\u001b[1;32m----> 7\u001b[1;33m         \u001b[0mresult\u001b[0m\u001b[1;33m[\u001b[0m\u001b[0mmyInd\u001b[0m\u001b[1;33m]\u001b[0m \u001b[1;33m=\u001b[0m \u001b[0mi\u001b[0m\u001b[1;33m[\u001b[0m\u001b[1;36m0\u001b[0m\u001b[1;33m]\u001b[0m\u001b[1;33m\u001b[0m\u001b[0m\n\u001b[0m\u001b[0;32m      8\u001b[0m     \u001b[1;32mreturn\u001b[0m \u001b[0mresult\u001b[0m\u001b[1;33m\u001b[0m\u001b[0m\n\u001b[0;32m      9\u001b[0m \u001b[1;32mdef\u001b[0m \u001b[0mkmediod_tester\u001b[0m\u001b[1;33m(\u001b[0m\u001b[0mdist_matrix\u001b[0m\u001b[1;33m)\u001b[0m\u001b[1;33m:\u001b[0m\u001b[1;33m\u001b[0m\u001b[0m\n",
      "\u001b[1;31mKeyboardInterrupt\u001b[0m: "
     ]
    },
    {
     "name": "stderr",
     "output_type": "stream",
     "text": [
      "\r",
      " 44%|████▍     | 26552/60000 [15:30<19:26, 28.66it/s]"
     ]
    }
   ],
   "source": [
    "listSvmModel = []\n",
    "listSvmAccuracy = []\n",
    "\n",
    "listDecisionTree = []\n",
    "listDecisionTreeAccu = []\n",
    "\n",
    "listRandomForest = []\n",
    "listRandomForestAccu = []\n",
    "for i in range(1,20):\n",
    "    features,labels = generate_data(10000*i,1)\n",
    "    #SVM \n",
    "    #Training\n",
    "    clfSVM = SVC(gamma='auto')\n",
    "    clfSVM.fit(features,labels)\n",
    "    listSvmModel.append(clfSVM)\n",
    "    #Evaluation\n",
    "    listSvmAccuracy.append(clfSVM.score(X_test,y_test))\n",
    "    \n",
    "    #DecisionTree\n",
    "    #Training\n",
    "    clf_tree = tree.DecisionTreeClassifier()\n",
    "    clf_tree = clf_tree.fit(features,labels)\n",
    "    listDecisionTree.append(clf_tree)\n",
    "    #Evaluation\n",
    "    listDecisionTreeAccu.append(clf_tree.score(X_test,y_test))\n",
    "    \n",
    "    #Random Forest\n",
    "    #training\n",
    "    clf_rf= RandomForestClassifier()\n",
    "    clf_rf=clf_rf.fit(features,labels)\n",
    "    listRandomForest.append(clf_rf)\n",
    "    #Evaluation\n",
    "    listRandomForestAccu.append(clf_rf.score(X_test,y_test))"
   ]
  },
  {
   "cell_type": "code",
   "execution_count": 86,
   "metadata": {},
   "outputs": [
    {
     "data": {
      "text/plain": [
       "array([1, 2, 3, 4, 5])"
      ]
     },
     "execution_count": 86,
     "metadata": {},
     "output_type": "execute_result"
    }
   ],
   "source": [
    "np.arange(1,6,1)"
   ]
  },
  {
   "cell_type": "code",
   "execution_count": 105,
   "metadata": {},
   "outputs": [
    {
     "data": {
      "image/png": "[encoded data removed]",
      "text/plain": [
       "<Figure size 1440x720 with 1 Axes>"
      ]
     },
     "metadata": {},
     "output_type": "display_data"
    }
   ],
   "source": [
    "fig,ax1=plt.subplots(1,1,figsize=(20,10))\n",
    "x = np.arange(1,6,1)\n",
    "\n",
    "plt.plot(x, np.array(listSvmAccuracy),\"-o\",label=\"Support Vector Mahcine\")\n",
    "plt.plot(x, np.array(listDecisionTreeAccu),\"--o\",label=\"Decision Tree\")\n",
    "plt.plot(x, np.array(listRandomForestAccu),\"-.o\",label=\"Random Forest\")\n",
    "\n",
    "plt.legend(bbox_to_anchor=(1.05, 1), loc='upper left', borderaxespad=0.)\n",
    "\n",
    "plt.xlabel('Experiement No.', fontsize=20)\n",
    "plt.ylabel('Average Precision',fontsize=20)\n",
    "plt.tick_params(labelsize=15)\n",
    "ax1.legend(fontsize=20)\n",
    "plt.savefig('posterDiscussion.png')"
   ]
  },
  {
   "cell_type": "code",
   "execution_count": 61,
   "metadata": {},
   "outputs": [
    {
     "data": {
      "text/plain": [
       "[0.6883333333333334,\n",
       " 0.691,\n",
       " 0.6956666666666667,\n",
       " 0.6993333333333334,\n",
       " 0.6916666666666667]"
      ]
     },
     "execution_count": 61,
     "metadata": {},
     "output_type": "execute_result"
    }
   ],
   "source": [
    "listSvmAccuracy"
   ]
  },
  {
   "cell_type": "code",
   "execution_count": 62,
   "metadata": {},
   "outputs": [
    {
     "data": {
      "text/plain": [
       "[0.5933333333333334,\n",
       " 0.5243333333333333,\n",
       " 0.45266666666666666,\n",
       " 0.49466666666666664,\n",
       " 0.5786666666666667]"
      ]
     },
     "execution_count": 62,
     "metadata": {},
     "output_type": "execute_result"
    }
   ],
   "source": [
    "listDecisionTreeAccu"
   ]
  },
  {
   "cell_type": "code",
   "execution_count": 63,
   "metadata": {},
   "outputs": [
    {
     "data": {
      "text/plain": [
       "[0.6116666666666667,\n",
       " 0.6206666666666667,\n",
       " 0.6146666666666667,\n",
       " 0.61,\n",
       " 0.6206666666666667]"
      ]
     },
     "execution_count": 63,
     "metadata": {},
     "output_type": "execute_result"
    }
   ],
   "source": [
    "listRandomForestAccu"
   ]
  },
  {
   "cell_type": "code",
   "execution_count": 64,
   "metadata": {},
   "outputs": [
    {
     "name": "stdout",
     "output_type": "stream",
     "text": [
      "SVM\n",
      "              precision    recall  f1-score   support\n",
      "\n",
      "     class 0       0.69      0.93      0.79      1947\n",
      "     class 1       0.65      0.25      0.36      1053\n",
      "\n",
      "   micro avg       0.69      0.69      0.69      3000\n",
      "   macro avg       0.67      0.59      0.58      3000\n",
      "weighted avg       0.68      0.69      0.64      3000\n",
      "\n",
      "Decesion Tree\n",
      "              precision    recall  f1-score   support\n",
      "\n",
      "     class 0       0.68      0.70      0.69      1947\n",
      "     class 1       0.42      0.40      0.41      1053\n",
      "\n",
      "   micro avg       0.59      0.59      0.59      3000\n",
      "   macro avg       0.55      0.55      0.55      3000\n",
      "weighted avg       0.59      0.59      0.59      3000\n",
      "\n",
      "Random Forest\n",
      "              precision    recall  f1-score   support\n",
      "\n",
      "     class 0       0.69      0.74      0.71      1947\n",
      "     class 1       0.44      0.38      0.40      1053\n",
      "\n",
      "   micro avg       0.61      0.61      0.61      3000\n",
      "   macro avg       0.56      0.56      0.56      3000\n",
      "weighted avg       0.60      0.61      0.60      3000\n",
      "\n",
      "SVM\n",
      "              precision    recall  f1-score   support\n",
      "\n",
      "     class 0       0.70      0.92      0.79      1947\n",
      "     class 1       0.64      0.27      0.38      1053\n",
      "\n",
      "   micro avg       0.69      0.69      0.69      3000\n",
      "   macro avg       0.67      0.59      0.59      3000\n",
      "weighted avg       0.68      0.69      0.65      3000\n",
      "\n",
      "Decesion Tree\n",
      "              precision    recall  f1-score   support\n",
      "\n",
      "     class 0       0.66      0.56      0.60      1947\n",
      "     class 1       0.36      0.47      0.41      1053\n",
      "\n",
      "   micro avg       0.52      0.52      0.52      3000\n",
      "   macro avg       0.51      0.51      0.51      3000\n",
      "weighted avg       0.55      0.52      0.53      3000\n",
      "\n",
      "Random Forest\n",
      "              precision    recall  f1-score   support\n",
      "\n",
      "     class 0       0.68      0.78      0.73      1947\n",
      "     class 1       0.45      0.33      0.38      1053\n",
      "\n",
      "   micro avg       0.62      0.62      0.62      3000\n",
      "   macro avg       0.56      0.55      0.55      3000\n",
      "weighted avg       0.60      0.62      0.60      3000\n",
      "\n",
      "SVM\n",
      "              precision    recall  f1-score   support\n",
      "\n",
      "     class 0       0.71      0.89      0.79      1947\n",
      "     class 1       0.62      0.34      0.44      1053\n",
      "\n",
      "   micro avg       0.70      0.70      0.70      3000\n",
      "   macro avg       0.67      0.61      0.62      3000\n",
      "weighted avg       0.68      0.70      0.67      3000\n",
      "\n",
      "Decesion Tree\n",
      "              precision    recall  f1-score   support\n",
      "\n",
      "     class 0       0.60      0.45      0.52      1947\n",
      "     class 1       0.31      0.45      0.37      1053\n",
      "\n",
      "   micro avg       0.45      0.45      0.45      3000\n",
      "   macro avg       0.46      0.45      0.44      3000\n",
      "weighted avg       0.50      0.45      0.46      3000\n",
      "\n",
      "Random Forest\n",
      "              precision    recall  f1-score   support\n",
      "\n",
      "     class 0       0.67      0.79      0.73      1947\n",
      "     class 1       0.43      0.30      0.35      1053\n",
      "\n",
      "   micro avg       0.61      0.61      0.61      3000\n",
      "   macro avg       0.55      0.54      0.54      3000\n",
      "weighted avg       0.59      0.61      0.59      3000\n",
      "\n",
      "SVM\n",
      "              precision    recall  f1-score   support\n",
      "\n",
      "     class 0       0.72      0.87      0.79      1947\n",
      "     class 1       0.62      0.38      0.47      1053\n",
      "\n",
      "   micro avg       0.70      0.70      0.70      3000\n",
      "   macro avg       0.67      0.63      0.63      3000\n",
      "weighted avg       0.69      0.70      0.68      3000\n",
      "\n",
      "Decesion Tree\n",
      "              precision    recall  f1-score   support\n",
      "\n",
      "     class 0       0.63      0.54      0.58      1947\n",
      "     class 1       0.33      0.42      0.37      1053\n",
      "\n",
      "   micro avg       0.49      0.49      0.49      3000\n",
      "   macro avg       0.48      0.48      0.47      3000\n",
      "weighted avg       0.52      0.49      0.50      3000\n",
      "\n",
      "Random Forest\n",
      "              precision    recall  f1-score   support\n",
      "\n",
      "     class 0       0.67      0.80      0.73      1947\n",
      "     class 1       0.41      0.27      0.32      1053\n",
      "\n",
      "   micro avg       0.61      0.61      0.61      3000\n",
      "   macro avg       0.54      0.53      0.53      3000\n",
      "weighted avg       0.58      0.61      0.58      3000\n",
      "\n",
      "SVM\n",
      "              precision    recall  f1-score   support\n",
      "\n",
      "     class 0       0.72      0.87      0.79      1947\n",
      "     class 1       0.60      0.37      0.45      1053\n",
      "\n",
      "   micro avg       0.69      0.69      0.69      3000\n",
      "   macro avg       0.66      0.62      0.62      3000\n",
      "weighted avg       0.68      0.69      0.67      3000\n",
      "\n",
      "Decesion Tree\n",
      "              precision    recall  f1-score   support\n",
      "\n",
      "     class 0       0.68      0.67      0.67      1947\n",
      "     class 1       0.40      0.41      0.41      1053\n",
      "\n",
      "   micro avg       0.58      0.58      0.58      3000\n",
      "   macro avg       0.54      0.54      0.54      3000\n",
      "weighted avg       0.58      0.58      0.58      3000\n",
      "\n",
      "Random Forest\n",
      "              precision    recall  f1-score   support\n",
      "\n",
      "     class 0       0.68      0.79      0.73      1947\n",
      "     class 1       0.44      0.31      0.37      1053\n",
      "\n",
      "   micro avg       0.62      0.62      0.62      3000\n",
      "   macro avg       0.56      0.55      0.55      3000\n",
      "weighted avg       0.60      0.62      0.60      3000\n",
      "\n",
      "SVM\n"
     ]
    },
    {
     "ename": "IndexError",
     "evalue": "list index out of range",
     "output_type": "error",
     "traceback": [
      "\u001b[1;31m---------------------------------------------------------------------------\u001b[0m",
      "\u001b[1;31mIndexError\u001b[0m                                Traceback (most recent call last)",
      "\u001b[1;32m<ipython-input-64-eee6fd6c48b6>\u001b[0m in \u001b[0;36m<module>\u001b[1;34m()\u001b[0m\n\u001b[0;32m      2\u001b[0m     \u001b[0mprint\u001b[0m\u001b[1;33m(\u001b[0m\u001b[1;34m\"SVM\"\u001b[0m\u001b[1;33m)\u001b[0m\u001b[1;33m\u001b[0m\u001b[0m\n\u001b[0;32m      3\u001b[0m     \u001b[0my_true\u001b[0m \u001b[1;33m=\u001b[0m \u001b[0my_test\u001b[0m\u001b[1;33m\u001b[0m\u001b[0m\n\u001b[1;32m----> 4\u001b[1;33m     \u001b[0my_pred\u001b[0m \u001b[1;33m=\u001b[0m \u001b[0mlistSvmModel\u001b[0m\u001b[1;33m[\u001b[0m\u001b[0mi\u001b[0m\u001b[1;33m]\u001b[0m\u001b[1;33m.\u001b[0m\u001b[0mpredict\u001b[0m\u001b[1;33m(\u001b[0m\u001b[0mX_test\u001b[0m\u001b[1;33m)\u001b[0m\u001b[1;33m\u001b[0m\u001b[0m\n\u001b[0m\u001b[0;32m      5\u001b[0m     \u001b[0mtarget_names\u001b[0m \u001b[1;33m=\u001b[0m \u001b[1;33m[\u001b[0m\u001b[1;34m'class 0'\u001b[0m\u001b[1;33m,\u001b[0m \u001b[1;34m'class 1'\u001b[0m\u001b[1;33m]\u001b[0m\u001b[1;33m\u001b[0m\u001b[0m\n\u001b[0;32m      6\u001b[0m     \u001b[0mprint\u001b[0m\u001b[1;33m(\u001b[0m\u001b[0mclassification_report\u001b[0m\u001b[1;33m(\u001b[0m\u001b[0my_true\u001b[0m\u001b[1;33m,\u001b[0m \u001b[0my_pred\u001b[0m\u001b[1;33m,\u001b[0m \u001b[0mtarget_names\u001b[0m\u001b[1;33m=\u001b[0m\u001b[0mtarget_names\u001b[0m\u001b[1;33m)\u001b[0m\u001b[1;33m)\u001b[0m\u001b[1;33m\u001b[0m\u001b[0m\n",
      "\u001b[1;31mIndexError\u001b[0m: list index out of range"
     ]
    }
   ],
   "source": [
    "for i in range(0,6):\n",
    "    print(\"SVM\")\n",
    "    y_true = y_test\n",
    "    y_pred = listSvmModel[i].predict(X_test)\n",
    "    target_names = ['class 0', 'class 1']\n",
    "    print(classification_report(y_true, y_pred, target_names=target_names))\n",
    "    print(\"Decesion Tree\")\n",
    "    y_true = y_test\n",
    "    y_pred = listDecisionTree[i].predict(X_test)\n",
    "    target_names = ['class 0', 'class 1']\n",
    "    print(classification_report(y_true, y_pred, target_names=target_names))\n",
    "    print(\"Random Forest\")\n",
    "    y_true = y_test\n",
    "    y_pred = listRandomForest[i].predict(X_test)\n",
    "    target_names = ['class 0', 'class 1']\n",
    "    print(classification_report(y_true, y_pred, target_names=target_names))\n"
   ]
  },
  {
   "cell_type": "markdown",
   "metadata": {},
   "source": [
    "#### SVM\n",
    "##### Train the model"
   ]
  },
  {
   "cell_type": "code",
   "execution_count": 53,
   "metadata": {},
   "outputs": [
    {
     "data": {
      "text/plain": [
       "SVC(C=1.0, cache_size=200, class_weight=None, coef0=0.0,\n",
       "  decision_function_shape='ovr', degree=3, gamma='auto', kernel='rbf',\n",
       "  max_iter=-1, probability=False, random_state=None, shrinking=True,\n",
       "  tol=0.001, verbose=False)"
      ]
     },
     "execution_count": 53,
     "metadata": {},
     "output_type": "execute_result"
    }
   ],
   "source": [
    "from sklearn.svm import SVC\n",
    "clfSVM = SVC(gamma='auto')\n",
    "clfSVM.fit(features1,labels1)"
   ]
  },
  {
   "cell_type": "markdown",
   "metadata": {},
   "source": [
    "#### Decision Tree\n",
    "##### Train the model"
   ]
  },
  {
   "cell_type": "code",
   "execution_count": 56,
   "metadata": {},
   "outputs": [],
   "source": [
    "from sklearn import tree\n",
    "clf_tree = tree.DecisionTreeClassifier()\n",
    "clf_tree = clf_tree.fit(features1,labels1)"
   ]
  },
  {
   "cell_type": "markdown",
   "metadata": {},
   "source": [
    "#### Random Forest\n",
    "##### Train the model"
   ]
  },
  {
   "cell_type": "code",
   "execution_count": 57,
   "metadata": {},
   "outputs": [
    {
     "name": "stderr",
     "output_type": "stream",
     "text": [
      "C:\\Users\\ljh\\Anaconda3\\lib\\site-packages\\sklearn\\ensemble\\forest.py:248: FutureWarning: The default value of n_estimators will change from 10 in version 0.20 to 100 in 0.22.\n",
      "  \"10 in version 0.20 to 100 in 0.22.\", FutureWarning)\n"
     ]
    }
   ],
   "source": [
    "from sklearn.ensemble import RandomForestClassifier\n",
    "\n",
    "clf_rf= RandomForestClassifier()\n",
    "clf_rf=clf_rf.fit(features1,labels1)"
   ]
  },
  {
   "cell_type": "markdown",
   "metadata": {},
   "source": [
    "### Measure the performance"
   ]
  },
  {
   "cell_type": "code",
   "execution_count": 38,
   "metadata": {},
   "outputs": [],
   "source": [
    "from sklearn.metrics import classification_report"
   ]
  },
  {
   "cell_type": "markdown",
   "metadata": {},
   "source": [
    "#### SVM"
   ]
  },
  {
   "cell_type": "code",
   "execution_count": 54,
   "metadata": {},
   "outputs": [
    {
     "name": "stdout",
     "output_type": "stream",
     "text": [
      "              precision    recall  f1-score   support\n",
      "\n",
      "     class 0       0.71      0.90      0.79      1947\n",
      "     class 1       0.63      0.33      0.43      1053\n",
      "\n",
      "   micro avg       0.70      0.70      0.70      3000\n",
      "   macro avg       0.67      0.61      0.61      3000\n",
      "weighted avg       0.68      0.70      0.67      3000\n",
      "\n",
      "0.697\n"
     ]
    }
   ],
   "source": [
    "y_true = y_test\n",
    "y_pred = clfSVM.predict(X_test)\n",
    "target_names = ['class 0', 'class 1']\n",
    "print(classification_report(y_true, y_pred, target_names=target_names))\n",
    "print(clfSVM.score(X_test, y_test))"
   ]
  },
  {
   "cell_type": "markdown",
   "metadata": {},
   "source": [
    "#### Decision Tree"
   ]
  },
  {
   "cell_type": "code",
   "execution_count": 58,
   "metadata": {},
   "outputs": [
    {
     "name": "stdout",
     "output_type": "stream",
     "text": [
      "              precision    recall  f1-score   support\n",
      "\n",
      "     class 0       0.65      0.56      0.60      1947\n",
      "     class 1       0.35      0.43      0.39      1053\n",
      "\n",
      "   micro avg       0.52      0.52      0.52      3000\n",
      "   macro avg       0.50      0.50      0.49      3000\n",
      "weighted avg       0.54      0.52      0.53      3000\n",
      "\n",
      "0.518\n"
     ]
    }
   ],
   "source": [
    "y_true = y_test\n",
    "y_pred = clf_tree.predict(X_test)\n",
    "target_names = ['class 0', 'class 1']\n",
    "print(classification_report(y_true, y_pred, target_names=target_names))\n",
    "print(clf_tree.score(X_test, y_test))"
   ]
  },
  {
   "cell_type": "markdown",
   "metadata": {},
   "source": [
    "#### Random forest"
   ]
  },
  {
   "cell_type": "code",
   "execution_count": 59,
   "metadata": {},
   "outputs": [
    {
     "name": "stdout",
     "output_type": "stream",
     "text": [
      "              precision    recall  f1-score   support\n",
      "\n",
      "     class 0       0.68      0.83      0.74      1947\n",
      "     class 1       0.46      0.27      0.34      1053\n",
      "\n",
      "   micro avg       0.63      0.63      0.63      3000\n",
      "   macro avg       0.57      0.55      0.54      3000\n",
      "weighted avg       0.60      0.63      0.60      3000\n",
      "\n",
      "0.6316666666666667\n"
     ]
    }
   ],
   "source": [
    "y_true = y_test\n",
    "y_pred = clf_rf.predict(X_test)\n",
    "target_names = ['class 0', 'class 1']\n",
    "print(classification_report(y_true, y_pred, target_names=target_names))\n",
    "print(clf_rf.score(X_test, y_test))"
   ]
  },
  {
   "cell_type": "code",
   "execution_count": null,
   "metadata": {},
   "outputs": [],
   "source": []
  }
 ],
 "metadata": {
  "kernelspec": {
   "display_name": "Python 3",
   "language": "python",
   "name": "python3"
  },
  "language_info": {
   "codemirror_mode": {
    "name": "ipython",
    "version": 3
   },
   "file_extension": ".py",
   "mimetype": "text/x-python",
   "name": "python",
   "nbconvert_exporter": "python",
   "pygments_lexer": "ipython3",
   "version": "3.6.5"
  }
 },
 "nbformat": 4,
 "nbformat_minor": 2
}
